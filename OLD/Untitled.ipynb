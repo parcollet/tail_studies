{
 "cells": [
  {
   "cell_type": "code",
   "execution_count": 24,
   "metadata": {},
   "outputs": [
    {
     "name": "stdout",
     "output_type": "stream",
     "text": [
      "-0.0544424103316\n",
      "0.152553438365\n",
      "0.0844640732908\n",
      "0.104061767917\n",
      "0.0990478390835\n"
     ]
    }
   ],
   "source": [
    "from math import log\n",
    "x = -log(10.0)\n",
    "\n",
    "def f(n):\n",
    "    s = 0.0\n",
    "    f, y = 1, 1\n",
    "    for i in range (1, n):\n",
    "        s  += y\n",
    "        y *= (x/i)\n",
    "    return s\n",
    "\n",
    "print f(7)\n",
    "print f(8)\n",
    "print f(9)\n",
    "print f(10)\n",
    "print f(11)"
   ]
  },
  {
   "cell_type": "code",
   "execution_count": null,
   "metadata": {
    "collapsed": true
   },
   "outputs": [],
   "source": []
  }
 ],
 "metadata": {
  "kernelspec": {
   "display_name": "Python 2",
   "language": "python",
   "name": "python2"
  },
  "language_info": {
   "codemirror_mode": {
    "name": "ipython",
    "version": 2
   },
   "file_extension": ".py",
   "mimetype": "text/x-python",
   "name": "python",
   "nbconvert_exporter": "python",
   "pygments_lexer": "ipython2",
   "version": "2.7.13"
  }
 },
 "nbformat": 4,
 "nbformat_minor": 2
}
