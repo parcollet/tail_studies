{
 "cells": [
  {
   "cell_type": "markdown",
   "metadata": {},
   "source": [
    "Replacement of the tails\n",
    "==========================\n",
    "\n",
    "Definitions\n",
    "---------------\n",
    "\n",
    "Let us consider a Green function G (or a self) or in \n",
    "general a function G(z) on the complex plane with a \n",
    "spectral representation \n",
    "$$ G(z) = \\int d \\epsilon \\frac{\\rho(\\epsilon)}{z-\\epsilon}$$\n",
    "\n",
    "We assume (it is true in general) that $\\rho$ has a compact support,\n",
    "so in particular that there is a tail, i.e.\n",
    "a series at $z=\\infty$ with a finite radius of convergence $R_\\infty$.\n",
    "\n",
    "$$ G(z) \\mathop{\\sim}_{z \\rightarrow \\infty} \\sum_{n\\geq 0} \\frac{a_n}{z^n}$$\n",
    "\n",
    "and for $z > R_\\infty$, when truncated at order $N$, \n",
    "\n",
    "$$ G(z) = \\sum_{n= 0}^{N-1}\\frac{a_n}{z^n} + O\\left( \\dfrac{R_\\infty}{|z|} \\right)^{N} $$\n",
    "\n",
    "Points at the end of the mesh\n",
    "---------------------------------\n",
    "\n",
    "Let us now consider $R > R_\\infty$, \n",
    "and the points (we will adjust them to the Matsubara grid later)\n",
    "\n",
    "$$ \\omega_k = R \\alpha_k  \\qquad \\text { for } 0 \\leq k < N$$\n",
    "\n",
    "Since $R > R_\\infty$, we have\n",
    "\n",
    "$$ G(\\omega_k) = \\sum_{n= 0}^{N-1}  \\frac{a_n}{R^n \\alpha_k^n} + O\\left( \\dfrac{R_\\infty}{R} \\right)^{N} $$\n",
    "\n",
    "If we choose $R_\\infty/ R$ small enough or $N$ large enough, \n",
    "we have at precision $\\epsilon \\approx O\\left( \\dfrac{R_\\infty}{R} \\right)^{N} $\n",
    "\n",
    "$$ G_k \\equiv = G(\\omega_k) = \\sum_{n= 0}^{N-1}  \\frac{a_n}{R^n \\alpha_k^n} $$\n",
    "\n",
    "Let us introduce the Vandermonde matrix $$V_{ij} = \\alpha_i^j $$\n",
    "then we have\n",
    "\n",
    "$$ G_k = V_{kn} A_n $$ with $A_n = \\frac{a_n}{R^n}$.\n",
    "\n",
    "\n",
    "Conditioning of the Vandermonde Matrix\n",
    "--------------------------------------\n",
    "\n",
    "It is known that the conditioning of $V$ can quickly becomes very bad.\n",
    "\n",
    "* If $\\alpha_k$ are on the unit circle in the complex plane, \n",
    "  the matrix $V$ is unitary (it is a discrete Fourier Transform).\n",
    "  \n",
    "* If we insist that $\\alpha_k$ are real, we have to minimize the \n",
    "  condition number of $V$.\n",
    "  \n",
    "\n",
    "N=4\n",
    "--------\n",
    "\n",
    "* R is the maximum matsubara freq\n",
    "* $\\alpha = [-1, -0.9, 0.9, 1]$\n",
    "\n",
    "Conditioning of $V$ is approx 20.\n",
    "\n",
    "I propose to simply take : \n",
    "\n",
    "* a regular, *linearly spaced mesh* from -R to R.\n",
    "\n",
    "* By convention, we assume that the function between 0.9 R and R\n",
    "  (R = Omega_max) is well approximated by its tail to the *fourth* order\n",
    "  to a precision $\\epsilon$.\n",
    "\n",
    "* We simply use the points at $\\pm 0.9R, \\pm R$ (adjusted to the matsubara grid).\n",
    "  (the exact $V$ matrix depends on beta, adjusted to the matsubara mesh)\n",
    "  and extract the tail coefs from these four points.\n",
    "  \n",
    "Note that :\n",
    "\n",
    "* We can easily provide a self-consistency check : that the function is well \n",
    "  fit by the tail on [0.9R, R].\n",
    "  \n",
    "* The backward compatibility is trivial : no change.\n",
    "\n",
    "  We just enforce that the tail fit works in this window and use  \n",
    "  it to extract the tail.\n",
    "  \n",
    "  \n",
    "N = 6, 8\n",
    "-----------\n",
    "\n",
    "It is possible to go beyond this, and use order 6 or 8.\n",
    "To do this, we need to add additionnal points, e.g. \n",
    "for N = 8 :\n",
    "\n",
    "* R is the maximum matsubara freq\n",
    "* $\\alpha = [-3.8, -1.4, -1, -0.9, 0.9, 1, 1.4, 3.8]$\n",
    "\n",
    "Conditioning is 170, still manageable.\n",
    "This means that any error on $G$ will be amplified on $A$ by 170 at max.\n",
    "The effect on the evaluation of the tail is small, at most 2 digits.\n",
    "\n",
    "However the order of the tail is much higher, so the tail fits the function\n",
    "much better, cf test below.\n",
    "\n",
    "The trade of is that the mesh is a bit more complex, \n",
    "but the window can be chosen much smaller, hence saving memory, e.g.\n",
    "for $G(k, i\\omega_n)$.\n",
    "\n",
    "I propose to use this only optionally if needed.\n",
    "\n",
    "\n",
    "Enforcing $a_0=0, a_1 = 1$ for a normal Green function\n",
    "-----------------------------------------------------\n",
    "\n",
    "To be discussed. It not very clear we need to enforce\n",
    "this if we know it.\n",
    "\n",
    "\n",
    "Advantages\n",
    "-------------\n",
    "  \n",
    "The big technical advantage is that we store the value of $G$ at some points on the grid,\n",
    "and *on Matsubara points*. We have that : \n",
    "\n",
    "* A loop over all mesh points will also compute $G_\\omega$, hence also the tails !\n",
    "  It solves our API headaches.\n",
    "\n",
    "* Any linear operation is equivalent to the same on the tail.\n",
    "\n",
    "* A multiplication of Green function is just ... a multiplication.\n",
    "\n",
    "* There is no need to store a tail separately, it is in the mesh.\n",
    "\n",
    "* But we still automatically compute it e.g. in a self-consistency condition.\n",
    "\n",
    "* After a QMC, we simply leave these points to 0 or 1/\\omega\n",
    "\n",
    "Drawbacks\n",
    "------------\n",
    "\n",
    "-  What is left ?\n",
    "\n"
   ]
  },
  {
   "cell_type": "markdown",
   "metadata": {},
   "source": [
    "Optimization of $\\alpha$\n",
    "---------------------------"
   ]
  },
  {
   "cell_type": "code",
   "execution_count": 2,
   "metadata": {},
   "outputs": [
    {
     "name": "stdout",
     "output_type": "stream",
     "text": [
      "Warning: Desired error not necessarily achieved due to precision loss.\n",
      "         Current function value: 171.918812\n",
      "         Iterations: 27\n",
      "         Function evaluations: 780\n",
      "         Gradient evaluations: 128\n"
     ]
    },
    {
     "name": "stderr",
     "output_type": "stream",
     "text": [
      "/usr/local/lib/python2.7/site-packages/ipykernel_launcher.py:10: OptimizeWarning: Unknown solver options: xtol\n",
      "  # Remove the CWD from sys.path while we load stuff.\n"
     ]
    },
    {
     "data": {
      "text/plain": [
       "      fun: 171.91881210444492\n",
       " hess_inv: array([[  7.34507544e-06,  -6.73254246e-06,  -6.74743478e-06,\n",
       "          1.85490787e-06],\n",
       "       [ -6.73254246e-06,   7.94576581e-06,   8.29367750e-06,\n",
       "          8.34206513e-07],\n",
       "       [ -6.74743478e-06,   8.29367750e-06,   8.71567823e-06,\n",
       "          1.32292514e-06],\n",
       "       [  1.85490787e-06,   8.34206513e-07,   1.32292514e-06,\n",
       "          4.10956353e-06]])\n",
       "      jac: array([  2.67028809e-05,   1.20162964e-04,  -9.53674316e-06,\n",
       "         7.24792480e-05])\n",
       "  message: 'Desired error not necessarily achieved due to precision loss.'\n",
       "     nfev: 780\n",
       "      nit: 27\n",
       "     njev: 128\n",
       "   status: 2\n",
       "  success: False\n",
       "        x: array([ 0.89684884,  1.00182152,  1.39295827,  3.82460587])"
      ]
     },
     "execution_count": 2,
     "metadata": {},
     "output_type": "execute_result"
    }
   ],
   "source": [
    "import numpy as np\n",
    "from scipy.optimize import minimize\n",
    "def cond(c): \n",
    "    a = np.vander([1.0/x for x in c] + [-1.0/x for x in c], increasing = True)\n",
    "    return np.linalg.cond(a)\n",
    "def SVD(c): \n",
    "    a = np.vander([1.0/x for x in c] + [-1.0/x for x in c], increasing = True)\n",
    "    return np.linalg.svd(a)\n",
    "x0= [1, 1.1,1.3,2]\n",
    "minimize(cond, x0,  options={'xtol': 1e-8, 'disp': True})"
   ]
  },
  {
   "cell_type": "code",
   "execution_count": 146,
   "metadata": {},
   "outputs": [
    {
     "data": {
      "text/plain": [
       "231.80921466086585"
      ]
     },
     "execution_count": 146,
     "metadata": {},
     "output_type": "execute_result"
    }
   ],
   "source": [
    "cond([0.75, 0.8, 1])"
   ]
  },
  {
   "cell_type": "code",
   "execution_count": 151,
   "metadata": {},
   "outputs": [
    {
     "name": "stdout",
     "output_type": "stream",
     "text": [
      "Optimization terminated successfully.    (Exit mode 0)\n",
      "            Current function value: 171.247384363\n",
      "            Iterations: 7\n",
      "            Function evaluations: 22\n",
      "            Gradient evaluations: 7\n"
     ]
    },
    {
     "name": "stderr",
     "output_type": "stream",
     "text": [
      "/usr/local/lib/python2.7/site-packages/ipykernel_launcher.py:2: OptimizeWarning: Unknown solver options: xtol\n",
      "  \n"
     ]
    },
    {
     "data": {
      "text/plain": [
       "     fun: 171.24738436310182\n",
       "     jac: array([-0.0073299408])\n",
       " message: 'Optimization terminated successfully.'\n",
       "    nfev: 22\n",
       "     nit: 7\n",
       "    njev: 7\n",
       "  status: 0\n",
       " success: True\n",
       "       x: array([ 0.8526464598])"
      ]
     },
     "execution_count": 151,
     "metadata": {},
     "output_type": "execute_result"
    }
   ],
   "source": [
    "cons = {'type' : 'ineq', 'fun' : lambda x : 1- x[0] ,}\n",
    "minimize(lambda x : cond([0.75, x, 1]), [0.8], constraints = cons, options={'xtol': 1e-8, 'disp': True})"
   ]
  },
  {
   "cell_type": "code",
   "execution_count": 156,
   "metadata": {},
   "outputs": [
    {
     "name": "stdout",
     "output_type": "stream",
     "text": [
      "Optimization terminated successfully.    (Exit mode 0)\n",
      "            Current function value: 242.371557814\n",
      "            Iterations: 8\n",
      "            Function evaluations: 37\n",
      "            Gradient evaluations: 8\n"
     ]
    },
    {
     "name": "stderr",
     "output_type": "stream",
     "text": [
      "/usr/local/lib/python2.7/site-packages/ipykernel_launcher.py:6: OptimizeWarning: Unknown solver options: xtol\n",
      "  \n"
     ]
    },
    {
     "data": {
      "text/plain": [
       "     fun: 242.37155781377294\n",
       "     jac: array([ 2041.4005870819,    -0.0092887878])\n",
       " message: 'Optimization terminated successfully.'\n",
       "    nfev: 37\n",
       "     nit: 8\n",
       "    njev: 8\n",
       "  status: 0\n",
       " success: True\n",
       "       x: array([ 0.8         ,  0.8864694216])"
      ]
     },
     "execution_count": 156,
     "metadata": {},
     "output_type": "execute_result"
    }
   ],
   "source": [
    "cons = ( {'type' : 'ineq', 'fun' : lambda x : 1 - x[0]},\n",
    "        {'type' : 'ineq', 'fun' : lambda x : 1 - x[1]}, \n",
    "        {'type' : 'ineq', 'fun' : lambda x : x[0] - 0.8}, \n",
    "        {'type' : 'ineq', 'fun' : lambda x : x[1] - 0.8} )\n",
    "        \n",
    "minimize(lambda x : cond([x[0], x[1], 1]), [0.7,0.8], constraints = cons, options={'xtol': 1e-8, 'disp': True})"
   ]
  },
  {
   "cell_type": "code",
   "execution_count": 263,
   "metadata": {},
   "outputs": [
    {
     "name": "stdout",
     "output_type": "stream",
     "text": [
      "Positive directional derivative for linesearch    (Exit mode 8)\n",
      "            Current function value: 237308.321281\n",
      "            Iterations: 5\n",
      "            Function evaluations: 5\n",
      "            Gradient evaluations: 1\n"
     ]
    },
    {
     "name": "stderr",
     "output_type": "stream",
     "text": [
      "/usr/local/lib/python2.7/site-packages/ipykernel_launcher.py:8: OptimizeWarning: Unknown solver options: xtol\n",
      "  \n"
     ]
    },
    {
     "data": {
      "text/plain": [
       "     fun: 237308.32128136494\n",
       "     jac: array([-2481325.73046875 ,  4048788.662109375,  2868824.62109375 ])\n",
       " message: 'Positive directional derivative for linesearch'\n",
       "    nfev: 5\n",
       "     nit: 5\n",
       "    njev: 1\n",
       "  status: 8\n",
       " success: False\n",
       "       x: array([ 0.6 ,  0.8 ,  0.85])"
      ]
     },
     "execution_count": 263,
     "metadata": {},
     "output_type": "execute_result"
    }
   ],
   "source": [
    "cons = ( {'type' : 'ineq', 'fun' : lambda x : 1 - x[0]},\n",
    "        {'type' : 'ineq', 'fun' : lambda x : 1 - x[1]}, \n",
    "        {'type' : 'ineq', 'fun' : lambda x : 1 - x[2]}, \n",
    "        {'type' : 'ineq', 'fun' : lambda x : x[0] - 0.5}, \n",
    "        {'type' : 'ineq', 'fun' : lambda x : x[1] - 0.5}, \n",
    "        {'type' : 'ineq', 'fun' : lambda x : x[2] - 0.5} )\n",
    "        \n",
    "minimize(lambda x : cond([x[0], x[1], x[2], 0.9, 1]), [0.6,0.8, 0.85], constraints = cons, options={'xtol': 1e-8, 'disp': True})"
   ]
  },
  {
   "cell_type": "code",
   "execution_count": 257,
   "metadata": {},
   "outputs": [
    {
     "data": {
      "text/plain": [
       "      fun: 60687.29905653873\n",
       " hess_inv: <5x5 LbfgsInvHessProduct with dtype=float64>\n",
       "      jac: array([-208845.800079870969,  527817.694091936573,  520550.979126710445,\n",
       "       -424638.586264336482, -620691.140647977591])\n",
       "  message: 'CONVERGENCE: REL_REDUCTION_OF_F_<=_FACTR*EPSMCH'\n",
       "     nfev: 18\n",
       "      nit: 1\n",
       "   status: 0\n",
       "  success: True\n",
       "        x: array([ 0.7  ,  0.775,  0.85 ,  0.925,  1.   ])"
      ]
     },
     "execution_count": 257,
     "metadata": {},
     "output_type": "execute_result"
    }
   ],
   "source": [
    "M, N = 0.7, 5\n",
    "minimize(lambda x : cond(x), np.linspace(M, 1, N), bounds = N*[(M,1)], options={'disp': True})"
   ]
  },
  {
   "cell_type": "markdown",
   "metadata": {},
   "source": [
    "A little test function\n",
    "----------------------------\n",
    "\n",
    "* We compute a function f (2 lorentzians)\n",
    "* From that, we use the inverse of $V$ to compute $A$\n",
    "* We compare the evaluation of the tail to the true value of the function\n",
    "\n",
    "NB : it is better at higher order.\n"
   ]
  },
  {
   "cell_type": "code",
   "execution_count": 2,
   "metadata": {},
   "outputs": [
    {
     "name": "stdout",
     "output_type": "stream",
     "text": [
      "Condition 59137.4082429\n",
      "Coef analytic  : [ 0.3125         -0.091145833333  0.027669270833 -0.008657949942\n",
      "  0.002768245744 -0.000898219921  0.000294296503 -0.000097034222\n",
      "  0.000032122947]\n",
      "Coef from tail : [-0.000114098526  0.312537972141 -0.090727565712  0.027530074906\n",
      " -0.009254292511  0.002966694519 -0.000491098041  0.000158826543\n",
      " -0.000223970618  0.000074353851]\n",
      "Coef analytic   / tail\n",
      "0.999878503913\n",
      "1.00461014927\n",
      "1.00505614052\n",
      "0.935560436572\n",
      "0.933107782416\n",
      "1.82900326449\n",
      "1.85294282613\n",
      "0.433245320447\n",
      "0.432028012301\n",
      "[ 8.64            0.000000078133  0.000000020541]\n",
      "[ 8.736           0.000000071257  0.000000018577]\n",
      "[ 8.832           0.000000058082  0.000000015017]\n",
      "[ 8.928           0.000000040149  0.000000010295]\n",
      "[ 9.024           0.000000019521  0.000000004965]\n",
      "[ 9.12            0.000000001303  0.000000000329]\n",
      "[ 9.216           0.000000019463  0.00000000487 ]\n",
      "[ 9.312           0.000000031822  0.0000000079  ]\n",
      "[ 9.408           0.000000035037  0.000000008629]\n",
      "[ 9.504           0.000000025619  0.00000000626 ]\n"
     ]
    }
   ],
   "source": [
    "import numpy as np\n",
    "from cmath import exp, pi\n",
    "\n",
    "def f(w) : return 1/(w+2.0) + 2/(w + 3.2)\n",
    "\n",
    "# Value of the maximum Matsubara\n",
    "R = 3.2 * 3\n",
    "np.set_printoptions(suppress=True, precision=12)\n",
    "\n",
    "# uncomment here the chosen order\n",
    "c = [1, 0.9] \n",
    "#c = [1, 1.2, 3.0]\n",
    "c = [0.8, 0.88, 1]\n",
    "#c = [1, 0.9, 1.4, 3.8]\n",
    "c = [1, 0.9, 0.75, 0.8]\n",
    "c = [ 0.75, 0.77260765 , 0.84615594 , 0.94935056 , 1.        ]\n",
    "\n",
    "a = np.vander( [1.0/x for x in c] + [-1.0/x for x in c], increasing = True)\n",
    "print \"Condition\", np.linalg.cond(a)\n",
    "ai = np.linalg.inv(a)\n",
    "\n",
    "tail_pts = np.array([ R*x for x in c] + [-R*x for x in c])\n",
    "\n",
    "G = f(tail_pts)\n",
    "\n",
    "# inverse Fourier Transform\n",
    "A = np.matmul(ai, G)\n",
    "\n",
    "def analytic_coef(n):\n",
    "    n = n-1\n",
    "    return (-3.2)**n*2 + (-2)**n\n",
    "\n",
    "print \"Coef analytic  :\", np.array([((-3.2)**n*2 + (-2)**n) / R**(n+1) for n in range(2*len(c)-1)])\n",
    "print \"Coef from tail :\", A #np.array([x.real for n,x in enumerate (A)])\n",
    "#print \"Coef analytic  :\", np.array([(-3.2)**n*2 + (-2)**n for n in range(2*len(c)-1)])\n",
    "#print \"Coef from tail :\", np.array([x.real*R**(n) for n,x in enumerate (A)])\n",
    "print \"Coef analytic   / tail\"\n",
    "for n in range(2*len(c)-1):\n",
    "    print ((-3.2)**n*2 + (-2)**n) / R**(n+1)/  A[n+1]\n",
    "\n",
    "# Comparing \n",
    "def f2(w):\n",
    "    return sum( x * (R/w)**i for i,x in enumerate(A))\n",
    "\n",
    "for w in np.arange(0.9*R, R , R/100.0):\n",
    "    print np.array([w, abs(f2(w)/f(w) -1), abs(f2(w) - f(w)) ])#,  f2(w).real, f(w)])\n",
    "\n"
   ]
  },
  {
   "cell_type": "code",
   "execution_count": 255,
   "metadata": {},
   "outputs": [
    {
     "data": {
      "text/plain": [
       "(2207916.5727874641,\n",
       " array([ 47.990341288905,  37.076911820325,   5.30793229072 ,\n",
       "          4.697696451217,   0.718879767941,   0.638866280543,\n",
       "          0.046855614822,   0.041624318302,   0.001619585055,\n",
       "          0.001448913071,   0.000024072542,   0.000021735577]))"
      ]
     },
     "execution_count": 255,
     "metadata": {},
     "output_type": "execute_result"
    }
   ],
   "source": [
    "c = [1, 0.9, 0.75, 0.8, 0.85, 0.95]\n",
    "#c = [1, 0.925, 0.85, 0.7, 0.775]\n",
    "#c = [1,  0.9]\n",
    "#c = [1, 0.900001, 0.9]\n",
    "\n",
    "\n",
    "def SVD(c): \n",
    "    #a = np.vander([1.0/x for x in c] , increasing = True)\n",
    "    a = np.vander([1.0/x for x in c] + [-1.0/x for x in c], increasing = True)\n",
    "    return np.linalg.cond(a), np.linalg.svd(a)[1]\n",
    "\n",
    "SVD(c)"
   ]
  },
  {
   "cell_type": "code",
   "execution_count": 3,
   "metadata": {},
   "outputs": [
    {
     "name": "stdout",
     "output_type": "stream",
     "text": [
      "analytic 0.999999982143\n",
      "analytic 1.00000080649\n",
      "analytic 1.00000088083\n",
      "analytic 0.999995894128\n",
      "analytic 0.999995974736\n"
     ]
    },
    {
     "data": {
      "image/png": "[encoded data removed]",
      "text/plain": [
       "<matplotlib.figure.Figure at 0x1086fbc10>"
      ]
     },
     "metadata": {},
     "output_type": "display_data"
    }
   ],
   "source": [
    "import numpy as np\n",
    "from cmath import exp, pi\n",
    "from matplotlib import pyplot as plt\n",
    "%matplotlib inline\n",
    "\n",
    "def f(w) : return 1/(w+2.0) + 2/(w + 3.2)\n",
    "\n",
    "# Value of the maximum Matsubara\n",
    "R = 30.0\n",
    "np.set_printoptions(suppress=True, precision=15)\n",
    "\n",
    "# uncomment here the chosen order\n",
    "c = [1, 0.9] \n",
    "#c = [1, 1.2, 3.0]\n",
    "c = [0.8, 0.88, 1]\n",
    "#c = [1, 0.9, 1.4, 3.8]\n",
    "c = [1, 0.9, 0.75, 0.8]\n",
    "#c = [ 0.75 ,       0.77260765 , 0.84615594 , 0.94935056 , 1.        ]\n",
    "\n",
    "a = np.vander( [1.0/x for x in c] + [-1.0/x for x in c], increasing = True)\n",
    "#print \"Condition\", np.linalg.cond(a)\n",
    "ai = np.linalg.inv(a)\n",
    "\n",
    "def calc(R) : \n",
    "    tail_pts = np.array([ R*x for x in c] + [-R*x for x in c])\n",
    "    G = f(tail_pts)\n",
    "    A = np.matmul(ai, G)\n",
    "    #return np.array([x.real for n,x in enumerate (A)])\n",
    "    return np.array([x.real*R**(n) for n,x in enumerate (A)])\n",
    "  \n",
    "RR = np.arange(30,100,1)\n",
    "Rs = np.vstack( [calc(R) for R in RR])\n",
    "\n",
    "def pl(No) : \n",
    "    #print Rs[:,No]\n",
    "    print \"analytic\", analytic_coef(No) #/R**No, R\n",
    "    #xdata = [1.0/r**2 for r in RR]\n",
    "    #plt.plot(xdata, Rs[:,No], '-o')\n",
    "    plt.plot(RR, Rs[:,No]/analytic_coef(No), '-o')\n",
    "    #plt.axhline(y=analytic_coef(No)) #/R**No)\n",
    "    #print np.polyfit(xdata, Rs[:,No], No)\n",
    "    #def fit(x, a, p) : \n",
    "    #    return a/x**p\n",
    "\n",
    "#pl(4)\n",
    "\n",
    "f, axarr = plt.subplots(5, sharex=True, figsize=(10,10))\n",
    "f.tight_layout()\n",
    "for No in range(1,6):\n",
    "    print \"analytic\", analytic_coef(No)/ np.polyfit([1.0/r for r in RR], Rs[:,No], 5)[-1]\n",
    "    axarr[No-1].plot([1.0*r for r in RR], Rs[:,No]/analytic_coef(No), '-o')\n"
   ]
  },
  {
   "cell_type": "code",
   "execution_count": null,
   "metadata": {
    "collapsed": true
   },
   "outputs": [],
   "source": []
  },
  {
   "cell_type": "code",
   "execution_count": null,
   "metadata": {
    "collapsed": true
   },
   "outputs": [],
   "source": []
  }
 ],
 "metadata": {
  "kernelspec": {
   "display_name": "Python 2",
   "language": "python",
   "name": "python2"
  },
  "language_info": {
   "codemirror_mode": {
    "name": "ipython",
    "version": 2
   },
   "file_extension": ".py",
   "mimetype": "text/x-python",
   "name": "python",
   "nbconvert_exporter": "python",
   "pygments_lexer": "ipython2",
   "version": "2.7.14"
  }
 },
 "nbformat": 4,
 "nbformat_minor": 2
}
