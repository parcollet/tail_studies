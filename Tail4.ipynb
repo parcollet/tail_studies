{
 "cells": [
  {
   "cell_type": "code",
   "execution_count": 9,
   "metadata": {},
   "outputs": [
    {
     "name": "stdout",
     "output_type": "stream",
     "text": [
      "[  2.45576154e+01   2.06859562e+01   3.27047018e+00   2.98687353e+00\n",
      "   2.41868983e-01   2.17726539e-01   9.03809431e-03   8.08164022e-03\n",
      "   2.72815546e-04   2.45933450e-04]\n",
      "4066.14065033 99854.7180962\n",
      "[ 0.8         0.82280994  0.82284798  0.88446189  0.88430379  0.88453432\n",
      "  0.95881086  0.95880927  0.9588177   1.        ]\n"
     ]
    }
   ],
   "source": [
    "import numpy as np\n",
    "from scipy.optimize import minimize\n",
    "def SVD(c, N): \n",
    "    a = np.vander([1.0/x for x in c] + [-1.0/x for x in c], N, increasing = True)\n",
    "    return np.linalg.svd(a)\n",
    "\n",
    "def f(c, N): \n",
    "    U, L, V = SVD(c, N) \n",
    "    return -abs(L[N-1])\n",
    "\n",
    "B, N, P = 0.8, 10, 10\n",
    "init = np.linspace(B, 1, P)\n",
    "res = minimize(lambda x : f(x, N), init, bounds = P*[(B,1)], options={'disp': True})\n",
    "L = SVD(res.x, N )[1]\n",
    "print L\n",
    "print 1/L[-1], L[0]/L[-1]\n",
    "print res.x"
   ]
  },
  {
   "cell_type": "code",
   "execution_count": 1,
   "metadata": {},
   "outputs": [
    {
     "name": "stdout",
     "output_type": "stream",
     "text": [
      "[ 2.0000970968  0.0002171298  0.0000000189  0.          ]\n",
      "[[-1.    -0.01  -0.    -0.   ]\n",
      " [-0.01   1.     0.02   0.   ]\n",
      " [ 0.    -0.02   0.999  0.03 ]\n",
      " [-0.     0.    -0.03   1.   ]]\n"
     ]
    }
   ],
   "source": [
    "import numpy as np\n",
    "\n",
    "def f(R, dR, N) : \n",
    "    a = np.vander([ 1.0/(R + n* dR) for n in range(N)], increasing = True)\n",
    "    #a = np.vander([ 1.0/(R + n* dR) for n in range(N)] +[ -1.0/(R + n* dR) for n in range(N)], increasing = True)\n",
    "\n",
    "    u,L, v = np.linalg.svd(a)\n",
    "    np.set_printoptions(suppress=True, precision=10)\n",
    "    print L\n",
    "    np.set_printoptions(suppress=True, precision=3)\n",
    "    print v\n",
    "f(100,1,4)\n",
    "\n"
   ]
  },
  {
   "cell_type": "code",
   "execution_count": null,
   "metadata": {
    "collapsed": true
   },
   "outputs": [],
   "source": []
  }
 ],
 "metadata": {
  "kernelspec": {
   "display_name": "Python 2",
   "language": "python",
   "name": "python2"
  },
  "language_info": {
   "codemirror_mode": {
    "name": "ipython",
    "version": 2
   },
   "file_extension": ".py",
   "mimetype": "text/x-python",
   "name": "python",
   "nbconvert_exporter": "python",
   "pygments_lexer": "ipython2",
   "version": "2.7.14"
  }
 },
 "nbformat": 4,
 "nbformat_minor": 2
}
