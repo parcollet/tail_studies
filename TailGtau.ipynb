{
 "cells": [
  {
   "cell_type": "code",
   "execution_count": 1,
   "metadata": {
    "collapsed": false,
    "deletable": true,
    "editable": true,
    "run_control": {
     "frozen": false,
     "read_only": false
    }
   },
   "outputs": [
    {
     "name": "stderr",
     "output_type": "stream",
     "text": [
      "/usr/lib/python2.7/site-packages/h5py/__init__.py:36: FutureWarning: Conversion of the second argument of issubdtype from `float` to `np.floating` is deprecated. In future, it will be treated as `np.float64 == np.dtype(float).type`.\n",
      "  from ._conv import register_converters as _register_converters\n"
     ]
    }
   ],
   "source": [
    "from pytriqs.plot.mpl_interface import *\n",
    "%matplotlib inline\n",
    "from pytriqs.gf import *\n",
    "import numpy as np\n",
    "import math\n",
    "from math import exp"
   ]
  },
  {
   "cell_type": "code",
   "execution_count": 2,
   "metadata": {
    "collapsed": false,
    "deletable": true,
    "editable": true,
    "run_control": {
     "frozen": false,
     "read_only": false
    }
   },
   "outputs": [
    {
     "name": "stderr",
     "output_type": "stream",
     "text": [
      "/home/nwentzel/opt/triqs/lib/python2.7/site-packages/pytriqs/gf/plot/plot_base.py:44: UserWarning: oplot of gf : no name provided !\n",
      "  warn(\"oplot of gf : no name provided !\")\n"
     ]
    },
    {
     "name": "stdout",
     "output_type": "stream",
     "text": [
      "omax 27.33192\n",
      "abs (gt - gt_exact) =  [5.27449044e-07 2.20732486e-07 9.92740639e-08 5.37616448e-08\n",
      " 3.30353639e-08]\n",
      "2002\n"
     ]
    },
    {
     "data": {
      "image/png": "[encoded data removed]",
      "text/plain": [
       "<Figure size 432x288 with 1 Axes>"
      ]
     },
     "metadata": {},
     "output_type": "display_data"
    }
   ],
   "source": [
    "n_iw = 1000\n",
    "beta = 50\n",
    "pol = 2.3\n",
    "def analy(n):\n",
    "    return (pol)**(n) \n",
    "\n",
    "gw = GfImFreq(indices = [1], beta = beta, n_points = n_iw)\n",
    "gw << inverse(iOmega_n - pol) #SemiCircular(half_bandwidth = 1)\n",
    "\n",
    "omax = (2*n_iw + 1)*3.1416/beta/(2*pol)\n",
    "print \"omax\", omax\n",
    "\n",
    "gt = GfImTime(indices = [1], beta = beta, n_points = 2*n_iw + 2)\n",
    "gt << InverseFourier(gw)\n",
    "\n",
    "# EXACT\n",
    "gt_ex = gt.copy()\n",
    "for t in gt.mesh:\n",
    "    gt_ex[t] = - exp (-pol * t)/(1  + exp (-beta * pol))\n",
    "\n",
    "print \"abs (gt - gt_exact) = \", abs((gt - gt_ex).data[0:5,0,0])\n",
    "\n",
    "plt.xlim(0,1)\n",
    "print len(gt.mesh)\n",
    "oplot(gt, '-o')\n",
    "oplot(gt_ex, '-o')"
   ]
  },
  {
   "cell_type": "code",
   "execution_count": 3,
   "metadata": {
    "collapsed": false,
    "deletable": true,
    "editable": true,
    "run_control": {
     "frozen": false,
     "read_only": false
    }
   },
   "outputs": [
    {
     "name": "stdout",
     "output_type": "stream",
     "text": [
      "Diff Data:  [2.28777081e-08 2.28330123e-08 2.27884883e-08 2.27441377e-08\n",
      " 2.26999550e-08 2.26559445e-08]\n",
      "n                  tail                 tail2\n",
      "0                -2.22e-16               7.43e-08 \n",
      "1                1               1 \n",
      "2                2.3               2.302 \n",
      "3                5.29               4.564 \n",
      "4                12.17               42.42 \n"
     ]
    },
    {
     "name": "stderr",
     "output_type": "stream",
     "text": [
      "/usr/lib/python2.7/site-packages/ipykernel/__main__.py:14: ComplexWarning: Casting complex values to real discards the imaginary part\n"
     ]
    },
    {
     "data": {
      "image/png": "[encoded data removed]",
      "text/plain": [
       "<Figure size 432x288 with 1 Axes>"
      ]
     },
     "metadata": {},
     "output_type": "display_data"
    }
   ],
   "source": [
    "gw2 = gw.copy()\n",
    "gw2 <<  Fourier(gt, analy(1), analy(2))\n",
    "\n",
    "#plt.xlim(0,1)\n",
    "oplot(gw, '-o')\n",
    "oplot(gw2, '-o')\n",
    "print 'Diff Data: ', abs((gw - gw2).data[0:6,0,0])\n",
    "\n",
    "tail, err = gw.fit_tail()\n",
    "tail2, err2 = gw2.fit_tail()\n",
    "\n",
    "print \"n                  tail                 tail2\"\n",
    "for n in range(5):\n",
    "    print \"%s                %.4g               %.4g \"%(n, tail[n,0,0], tail2[n,0,0])"
   ]
  },
  {
   "cell_type": "markdown",
   "metadata": {
    "deletable": true,
    "editable": true,
    "run_control": {
     "frozen": false,
     "read_only": false
    }
   },
   "source": [
    "Fit the tail for $G(\\tau)$\n",
    "==================\n",
    "\n",
    "Illustrate the idea with the expansion around 0.\n",
    "\n",
    "`NB : we need to also add the term at beta, except it is very small in this example.`\n",
    "\n",
    "If $\\tau_i$ are the points of the grid, with $\\tau_m = m \\beta/N$ with $N$ points, \n",
    "and we note $\\epsilon = \\beta/N$ : \n",
    "\n",
    "$$d_m \\equiv \\frac{g(\\tau_m) - g(0)}{\\tau_m} = \\sum_{j=1}^p g^{(j)}(0) \\dfrac{\\tau_m^{j-1}}{j!} + O(\\epsilon^p)= \\sum_{j=1}^p g^{(j)}(0) \\, m^{j-1} \\dfrac{\\epsilon^{j-1}}{j!} + O(\\epsilon^p)$$\n",
    "\n",
    "So if we consider the first M points of the grid, we would like to find the least square solution to\n",
    "\n",
    "$$\\displaystyle \\begin{pmatrix} d_1 \\\\ \\ldots \\\\d_M\\end{pmatrix}  = V * \\operatorname{diag} \\left(1, \\ldots, \\dfrac{\\epsilon^{p-1}}{p!} \\right) * \\begin{pmatrix} g^{(1)}(0) \\\\ \\ldots \\\\ g^{(p)}(0) \\end{pmatrix}$$\n",
    "where $V$ is the $M \\times p$ Vandermonde matrix\n",
    "$$ V_{m,j}= m^{j-1}$$"
   ]
  },
  {
   "cell_type": "code",
   "execution_count": 4,
   "metadata": {
    "collapsed": false
   },
   "outputs": [
    {
     "name": "stdout",
     "output_type": "stream",
     "text": [
      "eps =  0.00050000500005\n",
      "0 2.300000000000059 2.3 2.5757174171303632e-14\n",
      "1 5.2900000000576055 5.29 1.088973355933831e-11\n",
      "2 12.166999914738296 12.167 7.007619040599877e-09\n",
      "3 27.983822563791893 27.9841 9.914065776439607e-06\n",
      "4 64.05062223448549 64.36343 0.004860023238576483\n"
     ]
    }
   ],
   "source": [
    "from numpy.linalg import lstsq\n",
    "\n",
    "beta = 50.\n",
    "gt2 = GfImTime(indices = [1], beta = beta, n_points = 100000)\n",
    "for t in gt2.mesh:\n",
    "    gt2[t] = - exp (-pol * t)/(1  + exp (-beta * pol))\n",
    "\n",
    "energy = 0.5\n",
    "\n",
    "# Add random noise\n",
    "sig = 0.0\n",
    "gt2.data[:,0,0]  += np.random.normal(0,sig, gt2.data.shape[0])\n",
    "\n",
    "eps = list(gt2.mesh)[1].value\n",
    "print \"eps = \", eps\n",
    "\n",
    "p = 8\n",
    "p_range = range(1,p+1) \n",
    "\n",
    "M = p # int(energy / eps)\n",
    "fit_indices = range(1,M+1)\n",
    "dcol = np.array([(gt2.data[n,0,0] - gt2.data[0,0,0])/(n*eps) for n in fit_indices])\n",
    "\n",
    "V = np.vander(fit_indices, p, increasing=True)\n",
    "Diag = np.diag([eps**(j-1)/math.factorial(j) for j in p_range])\n",
    "Gder = lstsq(np.dot(V,Diag), dcol, rcond=None)[0]\n",
    "\n",
    "moments = [ x*(-1)**i for i,x in enumerate(Gder)]\n",
    "\n",
    "for i in range(min(5, p)):\n",
    "    print i, moments[i].real, analy(i+1), abs(1- moments[i]/analy(i+1))"
   ]
  },
  {
   "cell_type": "code",
   "execution_count": 5,
   "metadata": {
    "collapsed": false
   },
   "outputs": [
    {
     "name": "stdout",
     "output_type": "stream",
     "text": [
      "[[ 8.00000000e+00 -2.80000000e+01  5.60000000e+01 -7.00000000e+01\n",
      "   5.60000000e+01 -2.80000000e+01  8.00000000e+00 -1.00000000e+00]\n",
      " [-5.49708789e+04  2.48397516e+05 -5.34127992e+05  6.90993090e+05\n",
      "  -5.63994360e+05  2.85730476e+05 -8.23991760e+04  1.03713249e+04]\n",
      " [ 2.32662013e+08 -1.22350886e+09  2.86914262e+09 -3.88525563e+09\n",
      "   3.26060145e+09 -1.68296634e+09  4.91856829e+08 -6.25320827e+07]\n",
      " [-7.01845611e+11  4.07694436e+12 -1.02908913e+13  1.46568936e+13\n",
      "  -1.27249516e+13  6.72699819e+12 -2.00100664e+12  2.57858931e+11]\n",
      " [ 1.53327200e+15 -9.54628481e+15  2.55589776e+16 -3.81851392e+16\n",
      "   3.44119568e+16 -1.87192512e+16  5.69310560e+15 -7.46636800e+14]\n",
      " [-2.33588320e+18  1.52952352e+19 -4.29098544e+19  6.68766561e+19\n",
      "  -6.25568721e+19  3.51342432e+19 -1.09754512e+19  1.47192640e+18]\n",
      " [ 2.23986560e+21 -1.52310861e+22  4.43493389e+22 -7.16756993e+22\n",
      "   6.94358337e+22 -4.03175809e+22  1.29912205e+22 -1.79189248e+21]\n",
      " [-1.02392832e+24  7.16749826e+24 -2.15024948e+25  3.58374913e+25\n",
      "  -3.58374913e+25  2.15024948e+25 -7.16749826e+24  1.02392832e+24]]\n"
     ]
    }
   ],
   "source": [
    "print np.linalg.inv(np.dot(V,Diag))"
   ]
  },
  {
   "cell_type": "code",
   "execution_count": 6,
   "metadata": {
    "collapsed": false
   },
   "outputs": [
    {
     "name": "stdout",
     "output_type": "stream",
     "text": [
      "Diff Data:  [2.28777081e-08 2.28330123e-08 2.27884883e-08 2.27441377e-08\n",
      " 2.26999550e-08 2.26559445e-08]\n",
      "n                  tail                 tail2\n",
      "0                -2.220446e-16             7.4296479e-08 \n",
      "1                1             0.99997992 \n",
      "2                2.3             2.3021132 \n",
      "3                5.29             4.5642003 \n",
      "4                12.167             42.419593 \n"
     ]
    },
    {
     "name": "stderr",
     "output_type": "stream",
     "text": [
      "/usr/lib/python2.7/site-packages/ipykernel/__main__.py:21: ComplexWarning: Casting complex values to real discards the imaginary part\n"
     ]
    },
    {
     "data": {
      "image/png": "[encoded data removed]",
      "text/plain": [
       "<Figure size 432x288 with 1 Axes>"
      ]
     },
     "metadata": {},
     "output_type": "display_data"
    }
   ],
   "source": [
    "gt2 = gt.copy()\n",
    "gt2.data[:,0,0]  += np.random.normal(0,sig, gt2.data.shape[0])\n",
    "\n",
    "gw2 = gw.copy()\n",
    "#gw2 <<  Fourier(gt2, moments[0], moments[1])\n",
    "#gw2 <<  Fourier(gt, 2.28, 5.25)\n",
    "#gw2 <<  Fourier(gt, analy(1), analy(2))\n",
    "#gw2 <<  Fourier(gt, analy(1))\n",
    "gw2 <<  Fourier(gt)\n",
    "\n",
    "#plt.xlim(0,1)\n",
    "oplot(gw, '-o')\n",
    "oplot(gw2, '-o')\n",
    "print 'Diff Data: ', abs((gw - gw2).data[0:6,0,0])\n",
    "\n",
    "tail, err = gw.fit_tail()\n",
    "tail2, err2 = gw2.fit_tail()\n",
    "\n",
    "print \"n                  tail                 tail2\"\n",
    "for n in range(5):\n",
    "    print \"%s                %.8g             %.8g \"%(n, tail[n,0,0], tail2[n,0,0])"
   ]
  },
  {
   "cell_type": "code",
   "execution_count": 7,
   "metadata": {
    "collapsed": false
   },
   "outputs": [
    {
     "name": "stderr",
     "output_type": "stream",
     "text": [
      "/usr/lib/python2.7/site-packages/numpy/core/numeric.py:492: ComplexWarning: Casting complex values to real discards the imaginary part\n",
      "  return array(a, dtype, copy=False, order=order)\n"
     ]
    },
    {
     "data": {
      "text/plain": [
       "[<matplotlib.lines.Line2D at 0x7fdf7cb84790>]"
      ]
     },
     "execution_count": 7,
     "metadata": {},
     "output_type": "execute_result"
    },
    {
     "data": {
      "image/png": "[encoded data removed]",
      "text/plain": [
       "<Figure size 432x288 with 1 Axes>"
      ]
     },
     "metadata": {},
     "output_type": "display_data"
    }
   ],
   "source": [
    "def f(tau):\n",
    "    res = gt.data[0,0,0]\n",
    "    for i, d in enumerate(Gder):\n",
    "        res = res + d * tau**(i+1)/math.factorial(i+1)\n",
    "    return res\n",
    "        \n",
    "plt.xlim(0,0.05)\n",
    "plt.ylim(-1.01, -0.9)\n",
    "\n",
    "oplotr(gt, '-o')\n",
    "oplotr(gt_ex, '-o')\n",
    "\n",
    "tau_pts = np.linspace(0,0.5,20)\n",
    "plt.plot(tau_pts, [f(t) for t in tau_pts], '-x')"
   ]
  },
  {
   "cell_type": "code",
   "execution_count": 8,
   "metadata": {
    "collapsed": false
   },
   "outputs": [
    {
     "data": {
      "text/plain": [
       "'{{7.9999999999985585,-27.99999999998959,55.99999999997394,-69.99999999996047,55.99999999996433,-27.999999999978854,7.999999999993754,-0.9999999999992228},{-13.742857142854032,62.099999999978536,-133.53333333327762,172.74999999991633,-140.99999999992437,71.43333333329052,-20.599999999987208,2.592857142855483},{9.694444444442203,-50.98055555554068,119.54999999996016,-161.8888888888297,135.8611111110578,-70.12499999997128,20.49444444443579,-2.6055555555543912},{-3.655555555554935,21.23472222221805,-53.59999999998892,76.34027777776153,-66.27777777776346,35.03749999999251,-10.422222222219997,1.3430555555552597},{0.7986111111110731,-4.972222222221932,13.31249999999928,-19.888888888887987,17.923611111110464,-9.749999999999748,2.9652777777777213,-0.38888888888888273},{-0.10138888888890171,0.6638888888889647,-1.8625000000002185,2.902777777778144,-2.715277777778144,1.5250000000002177,-0.47638888888895914,0.06388888888889849},{0.006944444444446816,-0.04722222222223694,0.13750000000004128,-0.22222222222228802,0.21527777777784074,-0.12500000000003603,0.040277777777789146,-0.005555555555557087},{-0.00019841269841281458,0.0013888888888896182,-0.004166666666668701,0.0069444444444476455,-0.006944444444447471,0.0041666666666683805,-0.0013888888888894265,0.00019841269841277048}}'"
      ]
     },
     "execution_count": 8,
     "metadata": {},
     "output_type": "execute_result"
    }
   ],
   "source": [
    "np.set_printoptions(suppress=True, precision=15)\n",
    "\n",
    "a = np.linalg.inv(V)\n",
    "\n",
    "f = lambda c : '{%s}'%','.join(str(x) for x in c)\n",
    "f([ f(a[i,:]) for i in range(a.shape[0])])"
   ]
  },
  {
   "cell_type": "code",
   "execution_count": null,
   "metadata": {
    "collapsed": true
   },
   "outputs": [],
   "source": []
  }
 ],
 "metadata": {
  "kernelspec": {
   "display_name": "Python 2",
   "language": "python",
   "name": "python2"
  },
  "language_info": {
   "codemirror_mode": {
    "name": "ipython",
    "version": 2
   },
   "file_extension": ".py",
   "mimetype": "text/x-python",
   "name": "python",
   "nbconvert_exporter": "python",
   "pygments_lexer": "ipython2",
   "version": "2.7.14"
  }
 },
 "nbformat": 4,
 "nbformat_minor": 2
}
