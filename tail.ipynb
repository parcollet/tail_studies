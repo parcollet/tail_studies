{
 "cells": [
  {
   "cell_type": "markdown",
   "metadata": {},
   "source": [
    "Replacement of the tails\n",
    "==========================\n",
    "\n",
    "Definitions\n",
    "---------------\n",
    "\n",
    "Let us consider a Green function G (or a self) or in \n",
    "general a function G(z) on the complex plane with a \n",
    "spectral representation \n",
    "$$ G(z) = \\int d \\epsilon \\frac{\\rho(\\epsilon)}{z-\\epsilon}$$\n",
    "\n",
    "We assume (it is true in general) that $\\rho$ has a compact support,\n",
    "so in particular that there is a tail, i.e.\n",
    "a series at $z=\\infty$ with a finite radius of convergence $R_\\infty$.\n",
    "\n",
    "$$ G(z) \\mathop{\\sim}_{z \\rightarrow \\infty} \\sum_{n\\geq 0} \\frac{a_n}{z^n}$$\n",
    "\n",
    "and for $z > R_\\infty$, when truncated at order $N$, \n",
    "\n",
    "$$ G(z) = \\sum_{n= 0}^{N-1}\\frac{a_n}{z^n} + O\\left( \\dfrac{R_\\infty}{|z|} \\right)^{N} $$\n",
    "\n",
    "Unit circle\n",
    "------------\n",
    "\n",
    "Let us now consider a radius $R > R_\\infty$, and the $N$-th roots of unity on that circle\n",
    "i.e. the points\n",
    "\n",
    "$$ \\omega_k = R \\exp(2i\\pi k/N) \\qquad \\text { for } 0 \\leq k < N$$\n",
    "\n",
    "Since $R > R_\\infty$, we have\n",
    "\n",
    "$$ G(\\omega_k) = \\sum_{n= 0}^{N-1}  \\frac{a_n}{\\omega_k^n} + O\\left( \\dfrac{R_\\infty}{R} \\right)^{N} $$\n",
    "\n",
    "If we choose $R_\\infty/ R$ small enough, e.g. $1/2$ and $N$ large enough e.g. $10$, \n",
    "we have at precision $\\epsilon \\approx O\\left( \\dfrac{R_\\infty}{R} \\right)^{N} \\approx 10^{-3}$\n",
    "\n",
    "$$ G(\\omega_k) = \\sum_{n= 0}^{N-1}  \\frac{a_n}{\\omega_k^n} = \\sum_{n= 0}^N  \\frac{a_n}{R^{n}} e^{- \\frac{2i\\pi n k}{N}} $$\n",
    "\n",
    "The $N$ points $ G_\\omega \\equiv \\{G(\\omega_k)\\}_{k \\in [0,N-1]} $ are the (discrete) Fourier transform (DFT)\n",
    "of the $A_N \\equiv \\{ a_n R^{-n}\\}_{n \\in [0,N-1]}$.\n",
    "\n",
    "By definition of the DFT, the matrix relating $G_\\omega$ and $A_N$ is unitary.\n",
    "So an error order $\\epsilon$ on one translate into the same order of error on the other.\n",
    "\n",
    "Moreover, for  any $|z| > R$ (outside the circle of radius $R$), \n",
    "we have \n",
    "\n",
    "$$ G(z) = \\sum_{n= 0}^{N-1}\\frac{a_n}{R^n} \\frac{R^n}{z^n} + O(\\epsilon) $$\n",
    "\n",
    "and the error is controlled by the error on $a_n$, it is not amplified.\n",
    "\n",
    "Replace tails\n",
    "----------------\n",
    "\n",
    "Instead of the tail ($A_N$) I can therefore chose the $G_\\omega$ for a proper $R$.\n",
    "The DFT relation shows that I can quickly move between the 2 representations.\n",
    "\n",
    "One would like to store Green function points\n",
    "for $i\\omega_n < R$, and then store its values at $\\omega_k$ points.\n",
    "\n",
    "$R$ must be : \n",
    "\n",
    "* Larger than $R_\\infty$ or the tail sum would not converge.\n",
    "\n",
    "* Not too large, or the $A_N$ will decrease fast, and we can only use the tail \n",
    "  to compute reliably for $|z| > R$.\n",
    "  \n",
    "  \n",
    "$N$ must be large enough so that $(R_\\infty/R)^{N} < \\epsilon$\n",
    "where $\\epsilon$ is the chosen precision.\n",
    "\n",
    "The closer $R$ gets to $R_\\infty$, the larger $N$ must be.\n",
    "\n",
    "Note that at finite $N$, even if $G_\\omega$ are exact, there is an error\n",
    "of order $\\epsilon$ on the $A_N$.\n",
    "\n",
    "  \n",
    "The (big) technical advantage is that we store the value of $G$ at some complex points\n",
    "(but not Matsubara points).\n",
    "Hence, we simply add $N$ points to our \"mesh\" and \n",
    "\n",
    "* A loop over all mesh points will also compute $G_\\omega$, hence also the tails !\n",
    "  It solves our API headaches.\n",
    "\n",
    "* Any linear operation is equivalent to the same on the tail.\n",
    "\n",
    "* A multiplication of Green function is just ... a multiplication\n",
    "  (which indeed correspond to a *convolution* in the tail, cf formula for formal series multiplication).\n",
    "\n",
    "* There is no need to store a tail separately, it is in the mesh.\n",
    "\n",
    "* But we still automatically compute it e.g. in a self-consistency condition.\n",
    "\n",
    "* After a QMC, we simply leave these points to 0 or 1/\\omega\n",
    "\n",
    "Drawbacks\n",
    "------------\n",
    "\n",
    "- Need to have non matsubara points at the end of the mesh, \n",
    "  so we have to skip them in plotting, Fourier, density ...\n",
    "  But it is easy to do.\n",
    "  \n",
    "- For real frequencies, we have to make them complex now ...\n",
    "  but that is a small price.\n",
    "  \n",
    "Tail fitting\n",
    "--------------\n",
    "\n",
    "- We adjust the $G_\\omega$ so that the computation of $G(z)$ fits \n",
    "  the function for $|i\\omega_n| < R$.\n",
    "  \n",
    "\n",
    "A little numerical test\n",
    "============================\n",
    "\n",
    "- I do the calculation to play with $N$ and $R$\n",
    "  for a simple fraction.\n",
    "\n",
    "\n",
    "\n",
    "\n"
   ]
  },
  {
   "cell_type": "code",
   "execution_count": 118,
   "metadata": {
    "run_control": {
     "frozen": false,
     "read_only": false
    },
    "scrolled": true
   },
   "outputs": [
    {
     "data": {
      "text/plain": [
       "<matplotlib.lines.Line2D at 0x117425290>"
      ]
     },
     "execution_count": 118,
     "metadata": {},
     "output_type": "execute_result"
    },
    {
     "data": {
      "image/png": "[encoded data removed]",
      "text/plain": [
       "<matplotlib.figure.Figure at 0x11337db10>"
      ]
     },
     "metadata": {},
     "output_type": "display_data"
    }
   ],
   "source": [
    "import numpy as np\n",
    "from cmath import exp, pi\n",
    "\n",
    "def f(w) : return 1/(w+2.0) + 2/(w + 3.2)\n",
    "\n",
    "N = 30\n",
    "R = 10.0\n",
    "\n",
    "#print \"Estimated error\", (3.2/R)**N\n",
    "\n",
    "roots = np.array([ R * exp(2j * pi /N * k) for k in range (N)])\n",
    "G = f(roots)\n",
    "\n",
    "# inverse Fourier Transform\n",
    "A = np.fft.ifft(G)\n",
    "#print A.real[:]\n",
    "#print np.array([x.real*R**(n) for n,x in enumerate (A)])\n",
    "\n",
    "# Comparing \n",
    "def f2(w):\n",
    "    return sum( A[i] * (R/w)**i if abs(A[i]) > 1.e-15 else 0 for i in range (N))\n",
    "\n",
    "#for w in np.arange(3, 20, 0.1):\n",
    "#    print w, abs(f2(w)/f(w) -1), abs(f2(w) - f(w))#,  f2(w).real, f(w)\n",
    "\n",
    "plt.plot(np.arange(1,20,.01), [f(w*1j).imag for w in np.arange(1,20,.01)], '-o')\n",
    "plt.plot(np.arange(3.5,20,.01), [f2(w*1j).imag for w in np.arange(3.5,20,.01)],'x')\n",
    "plt.axvline(x=3.2)"
   ]
  },
  {
   "cell_type": "code",
   "execution_count": 108,
   "metadata": {},
   "outputs": [
    {
     "name": "stdout",
     "output_type": "stream",
     "text": [
      "1 3.0 3.00000000013 -4.22151202883e-11\n",
      "2 -8.4 -8.40000000041 -4.82458517581e-11\n",
      "3 24.48 24.4800000013 -5.29775112668e-11\n",
      "4 -73.536 -73.5360000041 -5.6432747364e-11\n",
      "5 225.7152 225.715200013 -5.88407100821e-11\n",
      "6 -703.08864 -703.088640042 -6.04396532822e-11\n",
      "7 2211.483648 2211.48364814 -6.15140161031e-11\n",
      "8 -6999.9476736 -6999.94767404 -6.21795948064e-11\n",
      "9 22246.2325555 22246.2325569 -6.26975138474e-11\n"
     ]
    },
    {
     "data": {
      "image/png": "[encoded data removed]",
      "text/plain": [
       "<matplotlib.figure.Figure at 0x1167f3dd0>"
      ]
     },
     "metadata": {},
     "output_type": "display_data"
    }
   ],
   "source": [
    "import numpy as np\n",
    "from cmath import exp, pi\n",
    "from matplotlib import pyplot as plt\n",
    "%matplotlib inline\n",
    "\n",
    "N = 30\n",
    "def f(w) : return 1/(w+2.0) + 2/(w + 3.2)\n",
    "def analytic_coef(n):\n",
    "    if n <=0 : return 0\n",
    "    n = n-1\n",
    "    return (-3.2)**n*2 + (-2)**n\n",
    "\n",
    "np.set_printoptions(suppress=True, precision=15)\n",
    "\n",
    "def calc(R, N):\n",
    "    roots = np.array([ R * exp(2j * pi /N * k) for k in range (N)])\n",
    "    G = f(roots)\n",
    "    # inverse Fourier Transform\n",
    "    A = np.fft.ifft(G)\n",
    "    return np.array([x.real*R**(n) for n,x in enumerate (A)])\n",
    "\n",
    "RR = np.arange(7,20,0.2)\n",
    "Rs = np.vstack( [calc(R, N) for R in RR])\n",
    "\n",
    "fig, axarr = plt.subplots(5, sharex=True, figsize=(10,10))\n",
    "fig.tight_layout()\n",
    "for No in range(1,6):\n",
    "    #print \"analytic\", analytic_coef(No)/ np.polyfit([1.0/r for r in RR], Rs[:,No], 5)[-1]\n",
    "    axarr[No-1].plot([1.0*r for r in RR], Rs[:,No]/analytic_coef(No), '-o')\n",
    "    #axarr[No-1].plot([1.0*r for r in RR], Rs[:,No], '-o')\n",
    "    axarr[No-1].axvline(x=1.5*3.2)\n",
    "\n",
    "C = calc(7,N)\n",
    "for i in range(1, 10):\n",
    "    print i, analytic_coef(i), C[i], analytic_coef(i)/ C[i] -1\n",
    "\n",
    "#[calc(2, n)[2] for n in range(10,45,1)]    "
   ]
  },
  {
   "cell_type": "code",
   "execution_count": 160,
   "metadata": {
    "collapsed": true
   },
   "outputs": [],
   "source": [
    "# Unused, just for example\n",
    "#from sympy import Symbol, cos, series,oo, Poly\n",
    "#x = Symbol('x')\n",
    "#print series(x/(1+2.0*x), n = 10)"
   ]
  },
  {
   "cell_type": "code",
   "execution_count": 124,
   "metadata": {},
   "outputs": [
    {
     "data": {
      "text/plain": [
       "(60, 60)"
      ]
     },
     "execution_count": 124,
     "metadata": {},
     "output_type": "execute_result"
    }
   ],
   "source": [
    "def gcd(a,b):\n",
    "    \"\"\"Compute the greatest common divisor of a and b\"\"\"\n",
    "    while b > 0:\n",
    "        a, b = b, a % b\n",
    "    return a\n",
    "    \n",
    "def lcm(a, b):\n",
    "    \"\"\"Compute the lowest common multiple of a and b\"\"\"\n",
    "    return a * b / gcd(a, b)\n",
    "\n",
    "def lcml(a,*l):\n",
    "    if len(l)==1 : return lcm(a,*l)\n",
    "    return lcm( a, lcml(*l))\n",
    "\n",
    "lcml(10,12,15,20,30), lcml(20,12,30)"
   ]
  },
  {
   "cell_type": "code",
   "execution_count": null,
   "metadata": {
    "collapsed": true
   },
   "outputs": [],
   "source": []
  }
 ],
 "metadata": {
  "kernelspec": {
   "display_name": "Python 2",
   "language": "python",
   "name": "python2"
  },
  "language_info": {
   "codemirror_mode": {
    "name": "ipython",
    "version": 2
   },
   "file_extension": ".py",
   "mimetype": "text/x-python",
   "name": "python",
   "nbconvert_exporter": "python",
   "pygments_lexer": "ipython2",
   "version": "2.7.14"
  },
  "latex_envs": {
   "bibliofile": "biblio.bib",
   "cite_by": "apalike",
   "current_citInitial": 1,
   "eqLabelWithNumbers": true,
   "eqNumInitial": 0
  },
  "nav_menu": {},
  "toc": {
   "navigate_menu": true,
   "number_sections": true,
   "sideBar": true,
   "threshold": 6,
   "toc_cell": false,
   "toc_section_display": "block",
   "toc_window_display": false
  }
 },
 "nbformat": 4,
 "nbformat_minor": 1
}
